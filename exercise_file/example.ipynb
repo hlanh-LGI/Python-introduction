{
 "cells": [
  {
   "cell_type": "code",
   "execution_count": 1,
   "metadata": {},
   "outputs": [
    {
     "name": "stdout",
     "output_type": "stream",
     "text": [
      "[1, 2, 3, 4]\n"
     ]
    }
   ],
   "source": [
    "number = [1,2,3,4,2,3]\n",
    "number_1 = []\n",
    "for i in number:\n",
    "    if i not in (number_1):\n",
    "        number_1.append(i)\n",
    "\n",
    "print (number_1)"
   ]
  },
  {
   "cell_type": "code",
   "execution_count": 6,
   "metadata": {},
   "outputs": [
    {
     "name": "stdout",
     "output_type": "stream",
     "text": [
      "mảng trống\n"
     ]
    }
   ],
   "source": [
    "number = []\n",
    "\n",
    "if(len(number) == 0):\n",
    "    print (\"mảng trống\")\n",
    "else:\n",
    "    print(\"mảng có phan tu\")"
   ]
  },
  {
   "cell_type": "code",
   "execution_count": 8,
   "metadata": {},
   "outputs": [
    {
     "name": "stdout",
     "output_type": "stream",
     "text": [
      "biggest_number:  9\n",
      "second_largest_number:  8\n",
      "9\n",
      "8\n",
      "7\n",
      "6\n",
      "5\n",
      "4\n",
      "3\n",
      "2\n",
      "1\n",
      "Số nhỏ nhì la: 8\n"
     ]
    }
   ],
   "source": [
    "#TODO:\n",
    "'''\n",
    "Tìm số nhỏ nhì\n",
    "'''\n",
    "\n",
    "\n",
    "list_numbers= [1,3,2,5,4,8,6,7,9]\n",
    "\n",
    "\n",
    "biggest_number = second_largest_number = list_numbers[0]\n",
    "for i in range(0, len(list_numbers)):\n",
    "    if(biggest_number < list_numbers[i]):\n",
    "        biggest_number = list_numbers[i]\n",
    "for i in range(0, len(list_numbers)):        \n",
    "    if(second_largest_number < list_numbers[i] and list_numbers[i] < biggest_number):\n",
    "        second_largest_number = list_numbers[i]\n",
    "\n",
    "print(\"biggest_number: \", biggest_number)\n",
    "print(\"second_largest_number: \",second_largest_number)\n",
    "\n",
    "#hàm có sẵn\n",
    "#number.sort()\n",
    "#print (number[-2])\n",
    "\n",
    "\n",
    "#sắp xếp rồi in số max 2\n",
    "for i in range(0,len(list_numbers)):\n",
    "    for j in range(i+1,len(list_numbers)):\n",
    "        if ( list_numbers [i] < list_numbers [j]):\n",
    "            temp = list_numbers[i]\n",
    "            list_numbers[i] = list_numbers [j]\n",
    "            list_numbers [j] = temp\n",
    "    \n",
    "for i in range(0,len(list_numbers)):\n",
    "    print(list_numbers[i])\n",
    "print(\"Số nhỏ nhì la:\",list_numbers[1])\n"
   ]
  },
  {
   "cell_type": "code",
   "execution_count": 5,
   "metadata": {},
   "outputs": [
    {
     "name": "stdout",
     "output_type": "stream",
     "text": [
      "13\n"
     ]
    }
   ],
   "source": [
    "#TODO:\n",
    "'''\n",
    "Tính sum trong list\n",
    "'''\n",
    "\n",
    "list_number = [1,3,4,5]\n",
    "sum=0\n",
    "for element in (list_number):\n",
    "    sum = sum + element\n",
    "print(sum)"
   ]
  },
  {
   "cell_type": "code",
   "execution_count": 2,
   "metadata": {},
   "outputs": [
    {
     "name": "stdout",
     "output_type": "stream",
     "text": [
      "6\n",
      "6\n"
     ]
    }
   ],
   "source": [
    "#TODO:\n",
    "\"\"\"\n",
    "tim so lon nhat\n",
    "\"\"\"\n",
    "\n",
    "list_number = [1,2,3,4,4,5,6,6]\n",
    "biggest_number = list_number[0]\n",
    "for elemnet in range(0, len(list_number)):\n",
    "    if (biggest_number < list_number[elemnet]) :\n",
    "        biggest_number = list_number[elemnet]\n",
    "\n",
    "print(biggest_number)\n",
    "\n",
    "print (max(list_number))"
   ]
  },
  {
   "cell_type": "code",
   "execution_count": 3,
   "metadata": {},
   "outputs": [
    {
     "name": "stdout",
     "output_type": "stream",
     "text": [
      "3\n"
     ]
    }
   ],
   "source": [
    "#TODO:\n",
    "'''\n",
    "Write a Python program to find common items from two lists.\n",
    "'''\n",
    "\n",
    "list_a = [1,24,2,5,7,4]\n",
    "list_b = [4,5,7,10,9,8]\n",
    "\n",
    "number = 0\n",
    "for i in range(0,len(list_a)):\n",
    "    for j in range(0,len(list_b)):\n",
    "        if(list_a[i]== list_b[j]):\n",
    "            number = number + 1\n",
    "        \n",
    "print(number)"
   ]
  }
 ],
 "metadata": {
  "kernelspec": {
   "display_name": "Python 3.8.9 ('venv': venv)",
   "language": "python",
   "name": "python3"
  },
  "language_info": {
   "codemirror_mode": {
    "name": "ipython",
    "version": 3
   },
   "file_extension": ".py",
   "mimetype": "text/x-python",
   "name": "python",
   "nbconvert_exporter": "python",
   "pygments_lexer": "ipython3",
   "version": "3.8.9"
  },
  "orig_nbformat": 4,
  "vscode": {
   "interpreter": {
    "hash": "42fc5b4cb471330b354a542506cb1f329ba9fc5754aff9d45aeb306d46859132"
   }
  }
 },
 "nbformat": 4,
 "nbformat_minor": 2
}
